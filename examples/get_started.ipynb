{
 "cells": [
  {
   "cell_type": "markdown",
   "source": [
    "# NebulaGraph-PyG Remote Backend 使用与代码自查\n",
    "\n",
    "本 notebook 旨在：\n",
    "- 指导用户如何将 NebulaGraph 作为 PyG Remote Backend 无缝接入 GNN 全流程\n",
    "- 自用回顾并优化关键实现，确保工程质量\n",
    "- 为社区 code review 提供 checklist\n",
    "\n",
    "补充一句：WSL的IO真的垃圾！前后断断续续写了五个小时的文档能不见！现在有一种充分的死人感（指无力）。"
   ],
   "metadata": {
    "collapsed": false
   }
  },
  {
   "cell_type": "markdown",
   "source": [
    "## 目录"
   ],
   "metadata": {
    "collapsed": false
   }
  },
  {
   "cell_type": "markdown",
   "source": [
    "## 环境与依赖"
   ],
   "metadata": {
    "collapsed": false
   }
  },
  {
   "cell_type": "code",
   "execution_count": null,
   "outputs": [],
   "source": [
    "% git clone XXX\n",
    "% pip install nebula-pyg"
   ],
   "metadata": {
    "collapsed": false
   }
  },
  {
   "cell_type": "markdown",
   "source": [
    "### NebulaGraph\n",
    "NebulaGraph 是一款开源的、分布式的、易扩展的原生图数据库，也是这个项目背后的数据库。nebula-pyg 本质上是 NebulaGraph 与 PyG 之间的桥梁，方便用户在进行图神经网络（GNN）相关工作的时候，能够直接从NebulaGraph中获得数据，无需关心复杂的数据转换细节。\n",
    "\n",
    "#### 简单了解\n",
    "在正式使用 NebulaGraph 和 nebula-pyg 之前，希望您能够简单了解一下 NebulaGraph，以便你对本项目有更好的理解。\n",
    "重点推荐阅读 [NebulaGraph 架构](https://docs.nebula-graph.io/3.8.0/1.introduction/3.nebula-graph-architecture/1.architecture-overview/)。NebulaGraph 由三种服务构成：Graph 服务、Meta 服务和 Storage 服务，是一种存储与计算分离的架构。[Graph](https://docs.nebula-graph.io/3.8.0/1.introduction/3.nebula-graph-architecture/3.graph-service/) 服务主要负责处理查询请求;[Meta 服务](https://docs.nebula-graph.io/3.8.0/1.introduction/3.nebula-graph-architecture/2.meta-service/)负责管理集群元数据和服务信息;[Storage 服务](https://docs.nebula-graph.io/3.8.0/1.introduction/3.nebula-graph-architecture/4.storage-service/)负责数据的存储和管理。为了实现对 Storage 服务中数据的高效并行读取，nebula-pyg 直接连接 GraphStorageClient（即Storage服务），调用其 Scan 接口。\n",
    "Tips：当前的NebulaGraph社区版本并不从外部网络直接连接 GraphStorageClient，所以要确保Python环境与NebulaGraph部署在统一网络中。\n",
    "\n",
    "#### 安装部署\n",
    "安装部署的方式有很多，包括[RPM/DEB 包](https://docs.nebula-graph.com.cn/3.8.0/4.deployment-and-installation/2.compile-and-install-nebula-graph/2.install-nebula-graph-by-rpm-or-deb/),使用[Tar包](https://docs.nebula-graph.com.cn/3.8.0/4.deployment-and-installation/2.compile-and-install-nebula-graph/4.install-nebula-graph-from-tar/)，以及[Docker Compose](https://docs.nebula-graph.com.cn/3.8.0/4.deployment-and-installation/2.compile-and-install-nebula-graph/3.deploy-nebula-graph-with-docker-compose/)等等。官网的内容已经相当详细，此处不再赘述。\n",
    "Tips：注意一下，目前社区版仅支持在 Linux 系统下安装 NebulaGraph，且仅支持 CentOS 7.x、CentOS 8.x、Ubuntu 16.04、Ubuntu 18.04、Ubuntu 20.04 操作系统。（本人有尝试通过tar包在Ubuntu24.04上进行安装，但稳定性未经过验证）"
   ],
   "metadata": {
    "collapsed": false
   }
  },
  {
   "cell_type": "markdown",
   "source": [
    "### Python 环境\n",
    "推荐 >=3.9,<=3.12,以满足nebula-python,PyG等依赖要求\n",
    "### 更快速的环境配置(conda or pip)\n",
    "对于[torch](https://pytorch.org/get-started/locally/)和[PyG](https://pytorch-geometric.readthedocs.io/en/latest/install/installation.html)，推荐到各自的官方网站，找到符合自己的版本进行下载\n",
    "#### Conda"
   ],
   "metadata": {
    "collapsed": false
   }
  },
  {
   "cell_type": "code",
   "execution_count": null,
   "outputs": [],
   "source": [
    "% conda activate your_environment_name\n",
    "% conda install --yes --file requirements.txt"
   ],
   "metadata": {
    "collapsed": false
   }
  },
  {
   "cell_type": "markdown",
   "source": [
    "#### pip"
   ],
   "metadata": {
    "collapsed": false
   }
  },
  {
   "cell_type": "code",
   "execution_count": null,
   "outputs": [],
   "source": [
    "% pip install -r requirements.txt"
   ],
   "metadata": {
    "collapsed": false
   }
  },
  {
   "cell_type": "markdown",
   "source": [
    "### 更推荐环境配置(基于PDM)\n",
    "本项目为了更好接入 [nebula-python](https://github.com/vesoft-inc/nebula-python)\n",
    "在包管理器上，首先选择用[PDM](https://pdm-project.org/en/latest/),具体的安装步骤可以见[PDM Introduction Installation](https://pdm-project.org/en/latest/#installation)，以下同PDM文档中的[推荐安装方式](https://pdm-project.org/en/latest/#recommended-installation-method)"
   ],
   "metadata": {
    "collapsed": false
   }
  },
  {
   "cell_type": "markdown",
   "source": [
    "+ Linux/Mac"
   ],
   "metadata": {
    "collapsed": false
   }
  },
  {
   "cell_type": "code",
   "execution_count": null,
   "outputs": [],
   "source": [
    "% curl -sSL https://pdm-project.org/install-pdm.py | python3 -"
   ],
   "metadata": {
    "collapsed": false
   }
  },
  {
   "cell_type": "markdown",
   "source": [
    "+ Windows"
   ],
   "metadata": {
    "collapsed": false
   }
  },
  {
   "cell_type": "code",
   "execution_count": null,
   "outputs": [],
   "source": [
    "% powershell -ExecutionPolicy ByPass -c \"irm https://pdm-project.org/install-pdm.py | py -\""
   ],
   "metadata": {
    "collapsed": false
   }
  },
  {
   "cell_type": "markdown",
   "source": [
    "或者采用pipx，pip等方式\n",
    "+ 使用pipx"
   ],
   "metadata": {
    "collapsed": false
   }
  },
  {
   "cell_type": "code",
   "execution_count": null,
   "outputs": [],
   "source": [
    "% pipx install pdm"
   ],
   "metadata": {
    "collapsed": false
   }
  },
  {
   "cell_type": "markdown",
   "source": [
    "接着，使用如下命令即可自动安装 pyproject.toml 中指定的依赖"
   ],
   "metadata": {
    "collapsed": false
   }
  },
  {
   "cell_type": "code",
   "execution_count": null,
   "outputs": [],
   "source": [
    "% pdm install"
   ],
   "metadata": {
    "collapsed": false
   }
  },
  {
   "cell_type": "markdown",
   "source": [
    "但注意，对于 torch-geometric, torch推荐到各自的官网上，找到自己对应的版本进行安装，pyproject.toml中已经具体指定，并不适用于所有平台,可自行在 pyproject.toml 进行版本的调整。\n",
    "Tips: torch, PyG 等包并没有直接提供pdm的安装方式，可以采用[PDM Configure the Project Specify index for individual packages](https://pdm-project.org/en/latest/usage/config/#specify-index-for-individual-packages) 即指定平台进行安装，也可采用下面Tips中的，直接使用 .whl方法进行安装。在pyptoject.toml中加入config，类似如下：\n",
    "``` toml\n",
    "[[tool.pdm.source]]\n",
    "name = \"private-pypi\"\n",
    "url = \"https://download.pytorch.org/whl/cu121\"\n",
    "include_packages = [\"torch\", \"torchvision\", \"torchaudio\"]\n",
    "```"
   ],
   "metadata": {
    "collapsed": false
   }
  },
  {
   "cell_type": "markdown",
   "source": [
    "Tips: 如果 pyg-lib, torch_scatter, torch_sparse 这几个包出现报错，可以到具体版本页面中，如 https://data.pyg.org/whl/torch-2.7.0+cpu.html 找到符合自己版本的 .whl, 用如下命令进行安装"
   ],
   "metadata": {
    "collapsed": false
   }
  },
  {
   "cell_type": "code",
   "execution_count": null,
   "outputs": [],
   "source": [
    "% pdm add \"pyg_lib-0.4.0+pt27cpu-cp312-cp312-linux_x86_64.whl\""
   ],
   "metadata": {
    "collapsed": false
   }
  },
  {
   "cell_type": "markdown",
   "source": [
    "如需运行代码，按照如下命令即可"
   ],
   "metadata": {
    "collapsed": false
   }
  },
  {
   "cell_type": "code",
   "execution_count": null,
   "outputs": [],
   "source": [
    "% pdm run python examples/XXX.py"
   ],
   "metadata": {
    "collapsed": false
   }
  },
  {
   "cell_type": "markdown",
   "source": [
    "## 如何调用\n",
    "首先恭喜你完成了环境的搭建，这意味着你已经完成了整体任务的70%。\n",
    "### 数据准备\n",
    "使用nebula-pyg之前，请确保NebulaGraph 中已有数据。对于数据的导入和管理，强烈推荐使用[NebulaGraph Studio](https://docs.nebula-graph.com.cn/3.8.0/nebula-studio/about-studio/st-ug-what-is-graph-studio/)该工具通过可视化界面，能更方便地帮助你完成相关操作。\n",
    "Tips：你的数据一定要满足节点存在可数或可计算的特征。\n",
    "[ ] 准备一个数据集"
   ],
   "metadata": {
    "collapsed": false
   }
  },
  {
   "cell_type": "markdown",
   "source": [
    "### 环境准备\n",
    "这里的环境准备是指如何连接gclient以及sclient。\n",
    "其中，USER可以默认使用root，PASSWORD则为nebula。\n",
    "可以观察到，因为处于统一网络，所以可以使用graphd，metad0等等进行连接"
   ],
   "metadata": {
    "collapsed": false
   }
  },
  {
   "cell_type": "code",
   "execution_count": null,
   "outputs": [],
   "source": [
    "from nebula3.Config import Config\n",
    "from nebula3.gclient.net import ConnectionPool\n",
    "from nebula3.sclient.GraphStorageClient import GraphStorageClient\n",
    "from nebula3.mclient import MetaCache\n",
    "\n",
    "\n",
    "config = Config()\n",
    "connection_pool = ConnectionPool()\n",
    "connection_pool.init([(\"graphd\", 9669)], config)\n",
    "# connection_pool.init([(\"host.docker.internal\", 9669)], config)\n",
    "gclient = connection_pool.get_session(USER, PASSWORD)\n",
    "\n",
    "meta_cache = MetaCache([(\"metad0\", 9559), (\"metad1\", 9559), (\"metad2\", 9559)], 50000)\n",
    "sclient = GraphStorageClient(meta_cache)"
   ],
   "metadata": {
    "collapsed": false
   }
  },
  {
   "cell_type": "markdown",
   "source": [
    "### VID\n",
    "可以简单了解一下[VID](https://docs.nebula-graph.com.cn/3.8.0/1.introduction/3.vid/),VID 是图空间中用于唯一标识一个节点的 ID，NebulaGraph 支持 INT64 和 FIXED_STRING(<N>) 两种类型。\n",
    "在PyG中，[PyG对edge_index有\\[0,num_nodes-1\\]的要求](https://pytorch-geometric.readthedocs.io/en/latest/get_started/introduction.html#:~:text=Note%20that%20it,running%20validate()%3A)。\n",
    "因此 VID 需要进行映射处理。\n",
    "在设计映射方案时，曾考虑过 KV-Cache，经过 Wey-gu 老师建议，结合两个关键点：1. 考不考虑动态场景 2.删除tag的时候连续序号需要怎么处理。最后采用了Snapshot这个方案，并使用 Python 原生的 pickle 进行持久化。\n",
    "因此，使用前需要先执行生成 Snapshot 的操作："
   ],
   "metadata": {
    "collapsed": false
   }
  },
  {
   "cell_type": "code",
   "execution_count": null,
   "outputs": [],
   "source": [
    "% python3 gen_snapshot.py"
   ],
   "metadata": {
    "collapsed": false
   }
  },
  {
   "cell_type": "markdown",
   "source": [
    "执行后，会生成一个 pickle 文件，包含以下内容：\n",
    "+ vid_to_idx 和 idx_to_vid 的双向映射\n",
    "+ vid_to_tag（节点分类信息）\n",
    "+ edge_type_groups 三元组信息\n",
    "\n",
    "之后，即可在代码中，直接调用 .pkl 文件"
   ],
   "metadata": {
    "collapsed": false
   }
  },
  {
   "cell_type": "code",
   "execution_count": null,
   "outputs": [],
   "source": [
    "import pickle\n",
    "\n",
    "with open(SNAPSHOT_PATH, \"rb\") as f:\n",
    "    snapshot = pickle.load(f)"
   ],
   "metadata": {
    "collapsed": false
   }
  },
  {
   "cell_type": "markdown",
   "source": [
    "### NebulaPyG\n",
    "现在，你只需要创建一个NebulaPyG对象，调用get_torch_geometric_remote_backend()方法，所有的处理细节都已经封装好了"
   ],
   "metadata": {
    "collapsed": false
   }
  },
  {
   "cell_type": "code",
   "execution_count": null,
   "outputs": [],
   "source": [
    "from nebula_pyg.nebula_pyg import NebulaPyG\n",
    "\n",
    "nebula_pyg = NebulaPyG(gclient, sclient, space, snapshot)\n",
    "feature_store, graph_store = nebula_pyg.get_torch_geometric_remote_backend()"
   ],
   "metadata": {
    "collapsed": false
   }
  },
  {
   "cell_type": "markdown",
   "source": [
    "### NeighborLoader\n",
    "现在，你只需要从PyG中调用NeighborLoader，就可将数据进行载入"
   ],
   "metadata": {
    "collapsed": false
   }
  },
  {
   "cell_type": "code",
   "execution_count": null,
   "outputs": [],
   "source": [
    "from torch_geometric.loader import NeighborLoader\n",
    "\n",
    "input_nodes = list(range(len(snapshot['idx_to_vid']['player'])))\n",
    "\n",
    "loader = NeighborLoader(\n",
    "    data=(feature_store, graph_store),\n",
    "    num_neighbors={\n",
    "        ('player', 'follow', 'player'): [10, 10],\n",
    "        ('player', 'serve', 'team'): [10, 10],\n",
    "    },\n",
    "    batch_size=32,\n",
    "    input_nodes=('player', input_nodes),\n",
    "    num_workers=0,\n",
    "    filter_per_worker=True,\n",
    ")"
   ],
   "metadata": {
    "collapsed": false
   }
  },
  {
   "cell_type": "markdown",
   "source": [
    "### 训练\n",
    "最后，你就可以调用你的模型，进行训练啦！"
   ],
   "metadata": {
    "collapsed": false
   }
  },
  {
   "cell_type": "code",
   "execution_count": null,
   "outputs": [],
   "source": [
    "for batch in loader:\n",
    "    # batch['player'].x, batch['player', 'follow', 'player'].edge_index ...\n",
    "    print(\"batch:\", batch)\n",
    "    # 可以直接放进你的 GNN forward 函数"
   ],
   "metadata": {
    "collapsed": false
   }
  }
 ],
 "metadata": {
  "kernelspec": {
   "display_name": "Python 3",
   "language": "python",
   "name": "python3"
  },
  "language_info": {
   "codemirror_mode": {
    "name": "ipython",
    "version": 2
   },
   "file_extension": ".py",
   "mimetype": "text/x-python",
   "name": "python",
   "nbconvert_exporter": "python",
   "pygments_lexer": "ipython2",
   "version": "2.7.6"
  }
 },
 "nbformat": 4,
 "nbformat_minor": 0
}
